{
 "cells": [
  {
   "cell_type": "code",
   "execution_count": 1,
   "id": "6988c225-7af6-4f8b-953e-9f616f9125ef",
   "metadata": {},
   "outputs": [
    {
     "name": "stdout",
     "output_type": "stream",
     "text": [
      "The number of times the depth increases is: 1559\n"
     ]
    }
   ],
   "source": [
    "## Day 1: Sonar Sweep (Part 1)"
   ]
  },
  {
   "cell_type": "code",
   "execution_count": 3,
   "id": "9ee68f86-e072-4b62-be64-aa9d7b1f8966",
   "metadata": {},
   "outputs": [
    {
     "name": "stdout",
     "output_type": "stream",
     "text": [
      "The number of times the depth increases is: 1559\n"
     ]
    }
   ],
   "source": [
    "# Directly specifying the absolute path to the file\n",
    "file_path = 'C:\\\\Users\\\\student\\\\Desktop\\\\HW4_PART1\\\\input.txt'\n",
    "\n",
    "# Function to read depths from the file\n",
    "def read_depths(file_path):\n",
    "    with open(file_path, 'r') as file:\n",
    "        # Read all lines in the file and convert them to integers\n",
    "        depths = [int(line.strip()) for line in file.readlines()]\n",
    "    return depths\n",
    "\n",
    "# Function to count the number of times the depth increases\n",
    "def count_increases(depths):\n",
    "    increases = 0\n",
    "    # Compare each value with the value before it\n",
    "    for i in range(1, len(depths)):\n",
    "        if depths[i] > depths[i - 1]:\n",
    "            increases += 1\n",
    "    return increases\n",
    "\n",
    "# Using the function to read data\n",
    "depths = read_depths(file_path)\n",
    "\n",
    "# Calculating the increases and printing the result\n",
    "increase_count = count_increases(depths)\n",
    "print(f\"The number of times the depth increases is: {increase_count}\")\n"
   ]
  },
  {
   "cell_type": "markdown",
   "id": "0c749bda-0105-4651-9607-6f26af13c92f",
   "metadata": {},
   "source": [
    "##  Part Two"
   ]
  },
  {
   "cell_type": "code",
   "execution_count": 5,
   "id": "14aa169a-9e6b-40a1-b6d3-7845aaa2d5fb",
   "metadata": {},
   "outputs": [
    {
     "name": "stdout",
     "output_type": "stream",
     "text": [
      "The number of sums that are larger than the previous sum is: 1600\n"
     ]
    }
   ],
   "source": [
    "def read_and_calculate_sums(file_path):\n",
    "    # Read the file and calculate the sums of three consecutive measurements\n",
    "    with open(file_path, 'r') as file:\n",
    "        depths = [int(line.strip()) for line in file.readlines()]\n",
    "    window_sums = []\n",
    "    for i in range(len(depths) - 2):\n",
    "        # Sum the current and the next two measurements\n",
    "        window_sum = depths[i] + depths[i+1] + depths[i+2]\n",
    "        window_sums.append(window_sum)\n",
    "    return window_sums\n",
    "\n",
    "def count_increases(window_sums):\n",
    "    # Count how many times the sum increases compared to the previous sum\n",
    "    increases = 0\n",
    "    for i in range(1, len(window_sums)):\n",
    "        if window_sums[i] > window_sums[i-1]:\n",
    "            increases += 1\n",
    "    return increases\n",
    "\n",
    "# Simplified file path variable for clarity\n",
    "file_path = 'C:\\\\Users\\\\student\\\\Desktop\\\\HW4_PART1\\\\input.txt (2).txt'\n",
    "\n",
    "# Read the file and calculate the window sums in one step\n",
    "window_sums = read_and_calculate_sums(file_path)\n",
    "\n",
    "# Count the number of increases in window sums\n",
    "increase_count = count_increases(window_sums)\n",
    "\n",
    "# Output the result to the user\n",
    "print(f\"The number of sums that are larger than the previous sum is: {increase_count}\")\n"
   ]
  },
  {
   "cell_type": "code",
   "execution_count": null,
   "id": "c98ad0eb-8781-41dc-ac4e-b3bad593299d",
   "metadata": {},
   "outputs": [],
   "source": []
  }
 ],
 "metadata": {
  "kernelspec": {
   "display_name": "Python [conda env:base] *",
   "language": "python",
   "name": "conda-base-py"
  },
  "language_info": {
   "codemirror_mode": {
    "name": "ipython",
    "version": 3
   },
   "file_extension": ".py",
   "mimetype": "text/x-python",
   "name": "python",
   "nbconvert_exporter": "python",
   "pygments_lexer": "ipython3",
   "version": "3.12.7"
  }
 },
 "nbformat": 4,
 "nbformat_minor": 5
}
